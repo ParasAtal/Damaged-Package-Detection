{
 "cells": [
  {
   "cell_type": "code",
   "execution_count": 1,
   "id": "dff57c2b",
   "metadata": {},
   "outputs": [],
   "source": [
    "import os\n",
    "import xml.etree.cElementTree as ET\n",
    "import numpy as np\n",
    "import tqdm\n",
    "import cv2 as cv"
   ]
  },
  {
   "cell_type": "code",
   "execution_count": 32,
   "id": "204b62ce",
   "metadata": {},
   "outputs": [],
   "source": [
    "PATH = \"/Users/antit/Desktop/Bilder/augmented_all_smaller/annotations_int\"\n",
    "files = os.listdir(PATH)\n"
   ]
  },
  {
   "cell_type": "code",
   "execution_count": 33,
   "id": "58e12f7f",
   "metadata": {},
   "outputs": [],
   "source": [
    "files = sorted([f for f in files if f.endswith('.xml')])"
   ]
  },
  {
   "cell_type": "code",
   "execution_count": 20,
   "id": "85e2aeb2",
   "metadata": {},
   "outputs": [],
   "source": [
    "files = files[:5]"
   ]
  },
  {
   "cell_type": "code",
   "execution_count": 34,
   "id": "fc5afd63",
   "metadata": {},
   "outputs": [
    {
     "name": "stderr",
     "output_type": "stream",
     "text": [
      "100%|██████████| 1472/1472 [05:27<00:00,  4.49it/s]\n"
     ]
    }
   ],
   "source": [
    "#os.mkdir(PATH+'_resized')\n",
    "NEW_PATH = os.path.join(\"/Users/antit/Desktop/Bilder/augmented_jpg_small_all\")\n",
    "os.mkdir(NEW_PATH)\n",
    "os.mkdir(os.path.join(NEW_PATH, \"annotations_jpg_int\"))\n",
    "\n",
    "for file in tqdm.tqdm(files, total = len(files)):\n",
    "    tree = ET.parse(os.path.join(PATH, file))\n",
    "    root = tree.getroot()\n",
    "    ob = root.find('object')\n",
    "    filename = root.find('filename')\n",
    "    path = root.find('path')\n",
    "    try:\n",
    "        \n",
    "        image_path = os.path.join(PATH, '..', tree.find('filename').text)\n",
    "        image = cv.imread(image_path)\n",
    "        filename.text = filename.text.split('.')[0] + '.jpg'\n",
    "        path.text = os.path.join(NEW_PATH, filename.text)\n",
    "        #print(image_path)\n",
    "        #print(path.text)\n",
    "\n",
    "\n",
    "\n",
    "        \n",
    "    except Exception as e:\n",
    "        print(e)\n",
    "        print(file)\n",
    "\n",
    "    cv.imwrite(os.path.join(NEW_PATH, image_path.split('/')[-1][:-3] + 'jpg'), image)\n",
    "    tree.write(os.path.join(NEW_PATH, 'annotations_jpg_int', file))"
   ]
  }
 ],
 "metadata": {
  "kernelspec": {
   "display_name": "Python 3",
   "language": "python",
   "name": "python3"
  },
  "language_info": {
   "codemirror_mode": {
    "name": "ipython",
    "version": 3
   },
   "file_extension": ".py",
   "mimetype": "text/x-python",
   "name": "python",
   "nbconvert_exporter": "python",
   "pygments_lexer": "ipython3",
   "version": "3.7.10"
  }
 },
 "nbformat": 4,
 "nbformat_minor": 5
}
