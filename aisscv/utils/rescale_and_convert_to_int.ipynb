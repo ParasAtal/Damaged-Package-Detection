{
 "cells": [
  {
   "cell_type": "code",
   "execution_count": 1,
   "metadata": {},
   "outputs": [],
   "source": [
    "import os\n",
    "import xml.etree.cElementTree as ET\n",
    "import numpy as np\n",
    "import tqdm\n",
    "import cv2 as cv\n",
    "from aisscv import __RepoPath__\n"
   ]
  },
  {
   "cell_type": "markdown",
   "metadata": {},
   "source": [
    "# Convert Images and Fix Labels (after augmentations)\n",
    "This notebook does label-postprocessing. \n",
    "It does:\n",
    " - Read in all annotations (in pascal VOC .xml files)\n",
    " - Resize images\n",
    " - Fix labels"
   ]
  },
  {
   "cell_type": "code",
   "execution_count": 2,
   "metadata": {},
   "outputs": [],
   "source": [
    "PATH = os.path.join(__RepoPath__.__RepoPath__, \"data/dataset_png/annotations\")\n",
    "files = os.listdir(PATH)"
   ]
  },
  {
   "cell_type": "code",
   "execution_count": 3,
   "metadata": {},
   "outputs": [],
   "source": [
    "files = sorted([f for f in files if f.endswith('.xml')])"
   ]
  },
  {
   "cell_type": "code",
   "execution_count": 4,
   "metadata": {},
   "outputs": [
    {
     "data": {
      "text/plain": [
       "2640"
      ]
     },
     "execution_count": 4,
     "metadata": {},
     "output_type": "execute_result"
    }
   ],
   "source": [
    "# Sanity chec if all labels are read in correctly\n",
    "len(files)"
   ]
  },
  {
   "cell_type": "code",
   "execution_count": 4,
   "metadata": {},
   "outputs": [],
   "source": [
    "def box_on_image(img: np.ndarray, min_point:tuple, max_point:tuple, window_name:str = 'Demo') -> None:\n",
    "    \"\"\"\n",
    "    For debugging purposes: Print a bounding box on an image and show the image.\n",
    "    Press any key to continue.\n",
    "    \"\"\"\n",
    "    image = cv.rectangle(img, min_point, max_point, color=(255,0,0), thickness = int(img.shape[0]/50))\n",
    "    cv.imshow(window_name, image)\n",
    "    cv.waitKey(0)\n",
    "    cv.destroyAllWindows()"
   ]
  },
  {
   "cell_type": "markdown",
   "metadata": {},
   "source": [
    "## Let the magic begin\n",
    "Now we \n",
    " - iterate over the label files \n",
    " - read in the image of each label \n",
    " - resize the image, if it is large\n",
    " - resize the bounding boxes accordingly\n",
    " - check that bounding boxes are non-negative ints\n",
    " - make sure that min-coordinates are smaller than max-coordinates\n",
    "\n",
    "we also split up the data to a train and a validation dataset, by getting a random value u. If this values is >.15 the sample belongs to train, else to validation. Write the image and the label to the according directory. "
   ]
  },
  {
   "cell_type": "code",
   "execution_count": 5,
   "metadata": {},
   "outputs": [
    {
     "name": "stderr",
     "output_type": "stream",
     "text": [
      "100%|██████████| 2640/2640 [12:42<00:00,  3.46it/s] \n"
     ]
    }
   ],
   "source": [
    "NEW_PATH = os.path.join(__RepoPath__.__RepoPath__, \"data/dataset_final_02\")\n",
    "if not os.path.exists(NEW_PATH):\n",
    "    #os.mkdir(NEW_PATH)\n",
    "    os.makedirs(os.path.join(NEW_PATH,'train', 'annotations'))\n",
    "    os.makedirs(os.path.join(NEW_PATH,'validation', 'annotations'))\n",
    "for ind, file in tqdm.tqdm(enumerate(files[:]), total = len(files[:])):\n",
    "    \n",
    "    # ob = root.find('object')\n",
    "    #print(ind)\n",
    "    try:\n",
    "        tree = ET.parse(os.path.join(PATH, file))\n",
    "        root = tree.getroot()\n",
    "        image_path = os.path.join(PATH, '..', root.find('filename').text)\n",
    "        if not os.path.exists(image_path):\n",
    "            continue\n",
    "        image = cv.imread(image_path)\n",
    "\n",
    "\n",
    "        #cv.imshow('Test', image)\n",
    "\n",
    "        (orig_height,orig_width,c) = image.shape\n",
    "        #print('Shape: {}'.format((v,u,c)))\n",
    "        if min(orig_height,orig_width) >= 2000:\n",
    "            factor = 0.25\n",
    "        elif min(orig_height,orig_width) >= 1000:\n",
    "            factor = 0.5\n",
    "        else:\n",
    "            factor = 1\n",
    "        #print(f'Orig width: {orig_width} and height {orig_height}, c:{c}, at file: {file}')\n",
    "        \n",
    "        resized = cv.resize(image, (int(orig_width*factor), int(orig_height*factor)))\n",
    "        #print(f'New width: {resized.shape[1]} and height {resized.shape[0]}')\n",
    "        size = root.find('size')\n",
    "        new_width = int(np.floor(resized.shape[1]))\n",
    "        new_height = int(np.floor(resized.shape[0]))\n",
    "        assert new_width>0 and new_height >0, \"Image dimensions must be positive\"\n",
    "\n",
    "        # Now, set the new values for the xml file.\n",
    "        width_node = size.find('width')\n",
    "        width_node.text = str(new_width)\n",
    "\n",
    "        height_node = size.find('height')\n",
    "        height_node.text = str(new_height)\n",
    "\n",
    "        new_image_name = os.path.split(image_path)[-1].split('.')[0]+'.jpg'\n",
    "\n",
    "        filename_node = root.find('filename')\n",
    "        filename_node.text = new_image_name\n",
    "        \n",
    "        obj_to_del = []\n",
    "        for ob in root.iter('object'):\n",
    "            bbox = ob.find('bndbox')\n",
    "            xmin_node = bbox.find('xmin')\n",
    "            ymin_node = bbox.find('ymin')\n",
    "            xmax_node = bbox.find('xmax')\n",
    "            ymax_node = bbox.find('ymax')\n",
    "            #print('Read values: min: {} max: {}'.format((xmin_node.text, ymin_node.text), (xmax_node.text, ymax_node.text)))\n",
    "            #box_on_image(image, (int(float(xmin_node.text)), int(float(ymin_node.text))), (int(float(xmax_node.text)), int(float(ymax_node.text))), 'Original Size')\n",
    "            \n",
    "            xmin_value = int(np.floor(float(xmin_node.text)*factor))\n",
    "            ymin_value = int(np.floor(float(ymin_node.text)*factor))\n",
    "            xmax_value = int(np.ceil(float(xmax_node.text)*factor))\n",
    "            ymax_value = int(np.ceil(float(ymax_node.text)*factor))\n",
    "            #print('After factor: min: {} max: {}'.format((xmin_value, ymin_value), (xmax_value, ymax_value)))\n",
    "\n",
    "            # Step1: Clamp values to image size\n",
    "            xmin_value = max(min(xmin_value, new_width-1), 1)\n",
    "            xmax_value = max(min(xmax_value, new_width-1), 1)\n",
    "            ymin_value = max(min(ymin_value, new_height-1), 1)\n",
    "            ymax_value = max(min(ymax_value, new_height-1), 1)\n",
    "\n",
    "            # Step2: switch in order to get positive heights/widths\n",
    "            xmin = min(xmin_value, xmax_value)\n",
    "            xmax = max(xmin_value, xmax_value)\n",
    "            ymin = min(ymin_value, ymax_value)\n",
    "            ymax = max(ymin_value, ymax_value)\n",
    "\n",
    "            # check if dmg is no longer in the image and add object in xml file to list for later deletion\n",
    "            if not (0<xmin<xmax<new_width and 0<ymin<ymax<new_height):\n",
    "                obj_to_del.append(ob)\n",
    "                #root.remove(ob)\n",
    "                continue\n",
    "            assert 0<xmin<xmax<new_width and 0<ymin<ymax<new_height, 'Problem with coordinates: min{}, max:{}, image {} at file {}'.format((xmin,ymin), (xmax,ymax), (new_width, new_height), file)\n",
    "            #box_on_image(resized, (xmin, ymin), (xmax, ymax), 'New Size')\n",
    "            xmin_node.text = str(xmin)\n",
    "            ymin_node.text = str(ymin)\n",
    "            xmax_node.text = str(xmax)\n",
    "            ymax_node.text = str(ymax)\n",
    "\n",
    "        # delete objects that are no longer in the image (not possible during the iteration)\n",
    "        [root.remove(ob) for ob in obj_to_del]\n",
    "    except Exception as e:\n",
    "        print('Exception: ', e.with_traceback())\n",
    "        print(file)\n",
    "        continue\n",
    "    u = np.random.uniform()\n",
    "    if u > 0.15:\n",
    "        cv.imwrite(os.path.join(NEW_PATH, 'train', new_image_name), resized)\n",
    "        tree.write(os.path.join(NEW_PATH, 'train', 'annotations', file))\n",
    "    else:\n",
    "        cv.imwrite(os.path.join(NEW_PATH, 'validation', new_image_name), resized)\n",
    "        tree.write(os.path.join(NEW_PATH, 'validation', 'annotations', file))\n",
    "\n",
    "    "
   ]
  },
  {
   "cell_type": "code",
   "execution_count": null,
   "metadata": {},
   "outputs": [],
   "source": []
  }
 ],
 "metadata": {
  "interpreter": {
   "hash": "cd7aa42abdb6aa81e80ae65dc33e889f65b4137572fcb5e284757c1ef0e82b33"
  },
  "kernelspec": {
   "display_name": "Python 3",
   "language": "python",
   "name": "python3"
  },
  "language_info": {
   "codemirror_mode": {
    "name": "ipython",
    "version": 3
   },
   "file_extension": ".py",
   "mimetype": "text/x-python",
   "name": "python",
   "nbconvert_exporter": "python",
   "pygments_lexer": "ipython3",
   "version": "3.7.10"
  }
 },
 "nbformat": 4,
 "nbformat_minor": 2
}
